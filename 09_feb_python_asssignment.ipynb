{
  "nbformat": 4,
  "nbformat_minor": 0,
  "metadata": {
    "colab": {
      "provenance": []
    },
    "kernelspec": {
      "name": "python3",
      "display_name": "Python 3"
    },
    "language_info": {
      "name": "python"
    }
  },
  "cells": [
    {
      "cell_type": "markdown",
      "source": [
        "###Q1, Create a vehicle class with an init method having instance variables as name_of_vehicle, max_speed and average_of_vehicle."
      ],
      "metadata": {
        "id": "-XceAiIqW04f"
      }
    },
    {
      "cell_type": "code",
      "execution_count": 1,
      "metadata": {
        "id": "ELEYP45CWndH"
      },
      "outputs": [],
      "source": [
        "class Vehicle:\n",
        "    def __init__(self, name_of_vehicle, max_speed, average_of_vehicle):\n",
        "        self.name_of_vehicle = name_of_vehicle\n",
        "        self.max_speed = max_speed\n",
        "        self.average_of_vehicle = average_of_vehicle\n"
      ]
    },
    {
      "cell_type": "code",
      "source": [
        "# Create a Vehicle object with name \"Car\", max speed of 410 km/h, and average speed of 100 km/h\n",
        "car = Vehicle(\"Bugatti\", 410, 100)\n",
        "\n",
        "print(car.name_of_vehicle)  \n",
        "print(car.max_speed)         \n",
        "print(car.average_of_vehicle) \n"
      ],
      "metadata": {
        "colab": {
          "base_uri": "https://localhost:8080/"
        },
        "id": "c4OzBPzIW8iE",
        "outputId": "f81092ac-3eaf-4642-d8fd-3c005c614d57"
      },
      "execution_count": 2,
      "outputs": [
        {
          "output_type": "stream",
          "name": "stdout",
          "text": [
            "Bugatti\n",
            "410\n",
            "100\n"
          ]
        }
      ]
    },
    {
      "cell_type": "markdown",
      "source": [
        "####Q2. Create a child class car from the vehicle class created in Que 1, which will inherit the vehicle class. Create a method named seating_capacity which takes capacity as an argument and returns the name of the vehicle and its seating capacity."
      ],
      "metadata": {
        "id": "uvcAYXwaXdNQ"
      }
    },
    {
      "cell_type": "code",
      "source": [
        "class Car(Vehicle):\n",
        "    def __init__(self, name_of_vehicle, max_speed, average_of_vehicle):\n",
        "        super().__init__(name_of_vehicle, max_speed, average_of_vehicle)\n",
        "    \n",
        "    def seating_capacity(self, capacity):\n",
        "        return f\"{self.name_of_vehicle} has a seating capacity of {capacity} people.\"\n"
      ],
      "metadata": {
        "id": "Rrd5QS-pXV0E"
      },
      "execution_count": 3,
      "outputs": []
    },
    {
      "cell_type": "code",
      "source": [
        "# Create a Car object with name \"Bugatti\", max speed of 410 km/h, and average speed of 90 km/h\n",
        "bugatti = Car(\"Bugatti\", 180, 90)\n",
        "\n",
        "print(bugatti.seating_capacity(2))   \n"
      ],
      "metadata": {
        "colab": {
          "base_uri": "https://localhost:8080/"
        },
        "id": "bGo_feUFX99C",
        "outputId": "88e42036-6822-4ec2-d371-6ce58d50becc"
      },
      "execution_count": 5,
      "outputs": [
        {
          "output_type": "stream",
          "name": "stdout",
          "text": [
            "Bugatti has a seating capacity of 2 people.\n"
          ]
        }
      ]
    },
    {
      "cell_type": "markdown",
      "source": [
        "###Q3. What is multiple inheritance? Write a python code to demonstrate multiple inheritance.\n",
        "\n",
        "*   Multiple inheritance is a feature of object-oriented programming languages that allows a class to inherit from more than one parent class. In other words, a child class can inherit attributes and methods from multiple parent classes.\n",
        "\n"
      ],
      "metadata": {
        "id": "M2vD8s3WYWjp"
      }
    },
    {
      "cell_type": "code",
      "source": [
        "# Define two parent classes: Vehicle and Electric\n",
        "class Vehicle:\n",
        "    def __init__(self, name):\n",
        "        self.name = name\n",
        "    \n",
        "    def start(self):\n",
        "        print(f\"{self.name} has started.\")\n",
        "        \n",
        "class Electric:\n",
        "    def __init__(self, battery_level):\n",
        "        self.battery_level = battery_level\n",
        "    \n",
        "    def charge(self):\n",
        "        print(f\"Charging battery to {self.battery_level}.\")\n",
        "\n",
        "class Car(Vehicle, Electric):\n",
        "    def __init__(self, name, battery_level):\n",
        "        Vehicle.__init__(self, name)\n",
        "        Electric.__init__(self, battery_level)\n",
        "\n",
        "my_car = Car(\"Tesla Model S\", 80)\n",
        "my_car.start() \n",
        "my_car.charge()  \n"
      ],
      "metadata": {
        "colab": {
          "base_uri": "https://localhost:8080/"
        },
        "id": "ZNAAS33uYTXB",
        "outputId": "cfc7a0d0-5f16-4eb9-c7d6-38d440c7c8fa"
      },
      "execution_count": 7,
      "outputs": [
        {
          "output_type": "stream",
          "name": "stdout",
          "text": [
            "Tesla Model S has started.\n",
            "Charging battery to 80.\n"
          ]
        }
      ]
    },
    {
      "cell_type": "markdown",
      "source": [
        "\n",
        "####Q.4) What are getter and setter in python? Create a class and create a getter and a setter method in this class.\n",
        "*  In Python, getters and setters are methods used to access and modify the attributes of a class. Getters are used to retrieve the values of an attribute while setters are used to modify the values of an attribute.\n",
        "\n",
        "\n"
      ],
      "metadata": {
        "id": "I87A5PiebbJN"
      }
    },
    {
      "cell_type": "code",
      "source": [
        "class Person:\n",
        "    def __init__(self, name, age):\n",
        "        self._name = name\n",
        "        self._age = age\n",
        "\n",
        "    def get_name(self):\n",
        "        return self._name\n",
        "\n",
        "    def set_name(self, name):\n",
        "        self._name = name\n",
        "\n",
        "    def get_age(self):\n",
        "        return self._age\n",
        "\n",
        "    def set_age(self, age):\n",
        "        if age < 0:\n",
        "            raise ValueError(\"Age cannot be negative\")\n",
        "        self._age = age"
      ],
      "metadata": {
        "id": "qJA_NFV3bab3"
      },
      "execution_count": 8,
      "outputs": []
    },
    {
      "cell_type": "code",
      "source": [
        "person = Person(\"Rushikesh\", 26)\n",
        "\n",
        "print(person.get_name()) \n",
        "print(person.get_age())  \n",
        "\n",
        "person.set_name(\"Kushal\")\n",
        "print(person.get_name())  \n",
        "person.set_age(33)\n",
        "print(person.get_age())  \n"
      ],
      "metadata": {
        "colab": {
          "base_uri": "https://localhost:8080/"
        },
        "id": "dQR3XGzjZ2MK",
        "outputId": "817878d2-7aab-4ebe-b237-3bc0ca25b845"
      },
      "execution_count": 10,
      "outputs": [
        {
          "output_type": "stream",
          "name": "stdout",
          "text": [
            "Rushikesh\n",
            "26\n",
            "Kushal\n",
            "33\n"
          ]
        }
      ]
    },
    {
      "cell_type": "markdown",
      "source": [
        "###Q5.What is method overriding in python? Write a python code to demonstrate method overriding.\n",
        "\n",
        "\n",
        "\n",
        "*   Method overriding is a concept in object-oriented programming where a subclass provides a different implementation of a method that is already defined in its parent class. This allows the subclass to customize the behavior of the method to suit its own needs.\n",
        "\n"
      ],
      "metadata": {
        "id": "jvaHLk0IchLF"
      }
    },
    {
      "cell_type": "code",
      "source": [
        "class Animal:\n",
        "    def make_sound(self):\n",
        "        print(\"The animal makes a sound.\")\n",
        "\n",
        "class Dog(Animal):\n",
        "    def make_sound(self):\n",
        "        print(\"The dog barks.\")\n",
        "\n",
        "class Lion(Animal):\n",
        "    def make_sound(self):\n",
        "        print(\"The lion roars.\")\n",
        "\n",
        "animal = Animal()\n",
        "dog = Dog()\n",
        "lion = Lion()\n",
        "\n",
        "animal.make_sound() \n",
        "dog.make_sound()  \n",
        "lion.make_sound()  "
      ],
      "metadata": {
        "colab": {
          "base_uri": "https://localhost:8080/"
        },
        "id": "pV-W0-T3cU3l",
        "outputId": "9446feac-ad6c-4477-c999-24b21d98a7df"
      },
      "execution_count": 11,
      "outputs": [
        {
          "output_type": "stream",
          "name": "stdout",
          "text": [
            "The animal makes a sound.\n",
            "The dog barks.\n",
            "The lion roars.\n"
          ]
        }
      ]
    },
    {
      "cell_type": "code",
      "source": [],
      "metadata": {
        "id": "90ChlYkadu_o"
      },
      "execution_count": null,
      "outputs": []
    }
  ]
}